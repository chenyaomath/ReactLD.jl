{
 "cells": [
  {
   "cell_type": "code",
   "execution_count": 1,
   "metadata": {},
   "outputs": [
    {
     "name": "stderr",
     "output_type": "stream",
     "text": [
      "\u001b[32m\u001b[1m  Activating\u001b[22m\u001b[39m project at `~/Developer/Overdamped To Underdamped Langevin Limits/AB_C_X_per`\n",
      "\u001b[32m\u001b[1m   Resolving\u001b[22m\u001b[39m package versions...\n",
      "\u001b[32m\u001b[1m  No Changes\u001b[22m\u001b[39m to `~/Developer/Overdamped To Underdamped Langevin Limits/AB_C_X_per/Project.toml`\n",
      "\u001b[32m\u001b[1m  No Changes\u001b[22m\u001b[39m to `~/Developer/Overdamped To Underdamped Langevin Limits/AB_C_X_per/Manifest.toml`\n",
      "\u001b[32m\u001b[1m   Resolving\u001b[22m\u001b[39m package versions...\n",
      "\u001b[32m\u001b[1m  No Changes\u001b[22m\u001b[39m to `~/Developer/Overdamped To Underdamped Langevin Limits/AB_C_X_per/Project.toml`\n",
      "\u001b[32m\u001b[1m  No Changes\u001b[22m\u001b[39m to `~/Developer/Overdamped To Underdamped Langevin Limits/AB_C_X_per/Manifest.toml`\n",
      "\u001b[32m\u001b[1m   Resolving\u001b[22m\u001b[39m package versions...\n",
      "\u001b[32m\u001b[1m  No Changes\u001b[22m\u001b[39m to `~/Developer/Overdamped To Underdamped Langevin Limits/AB_C_X_per/Project.toml`\n",
      "\u001b[32m\u001b[1m  No Changes\u001b[22m\u001b[39m to `~/Developer/Overdamped To Underdamped Langevin Limits/AB_C_X_per/Manifest.toml`\n",
      "\u001b[32m\u001b[1m   Resolving\u001b[22m\u001b[39m package versions...\n",
      "\u001b[32m\u001b[1m  No Changes\u001b[22m\u001b[39m to `~/Developer/Overdamped To Underdamped Langevin Limits/AB_C_X_per/Project.toml`\n",
      "\u001b[32m\u001b[1m  No Changes\u001b[22m\u001b[39m to `~/Developer/Overdamped To Underdamped Langevin Limits/AB_C_X_per/Manifest.toml`\n",
      "\u001b[32m\u001b[1m   Resolving\u001b[22m\u001b[39m package versions...\n",
      "\u001b[32m\u001b[1m  No Changes\u001b[22m\u001b[39m to `~/Developer/Overdamped To Underdamped Langevin Limits/AB_C_X_per/Project.toml`\n",
      "\u001b[32m\u001b[1m  No Changes\u001b[22m\u001b[39m to `~/Developer/Overdamped To Underdamped Langevin Limits/AB_C_X_per/Manifest.toml`\n",
      "\u001b[32m\u001b[1m   Resolving\u001b[22m\u001b[39m package versions...\n",
      "\u001b[32m\u001b[1m  No Changes\u001b[22m\u001b[39m to `~/Developer/Overdamped To Underdamped Langevin Limits/AB_C_X_per/Project.toml`\n",
      "\u001b[32m\u001b[1m  No Changes\u001b[22m\u001b[39m to `~/Developer/Overdamped To Underdamped Langevin Limits/AB_C_X_per/Manifest.toml`\n",
      "\u001b[32m\u001b[1m   Resolving\u001b[22m\u001b[39m package versions...\n",
      "\u001b[32m\u001b[1m  No Changes\u001b[22m\u001b[39m to `~/Developer/Overdamped To Underdamped Langevin Limits/AB_C_X_per/Project.toml`\n",
      "\u001b[32m\u001b[1m  No Changes\u001b[22m\u001b[39m to `~/Developer/Overdamped To Underdamped Langevin Limits/AB_C_X_per/Manifest.toml`\n",
      "\u001b[32m\u001b[1m   Resolving\u001b[22m\u001b[39m package versions...\n",
      "\u001b[32m\u001b[1m  No Changes\u001b[22m\u001b[39m to `~/Developer/Overdamped To Underdamped Langevin Limits/AB_C_X_per/Project.toml`\n",
      "\u001b[32m\u001b[1m  No Changes\u001b[22m\u001b[39m to `~/Developer/Overdamped To Underdamped Langevin Limits/AB_C_X_per/Manifest.toml`\n"
     ]
    }
   ],
   "source": [
    "using Pkg\n",
    "Pkg.activate(\".\")\n",
    "\n",
    "Pkg.add(\"ArgParse\")\n",
    "Pkg.add(\"CSV\")\n",
    "Pkg.add(\"DataFrames\")\n",
    "Pkg.add(\"Distributions\")\n",
    "Pkg.add(\"ProgressMeter\")\n",
    "Pkg.add(\"StaticArrays\")\n",
    "Pkg.add(\"Setfield\")\n",
    "Pkg.add(\"Tables\")"
   ]
  },
  {
   "cell_type": "code",
   "execution_count": 2,
   "metadata": {},
   "outputs": [],
   "source": [
    "using LinearAlgebra, StaticArrays, Setfield\n",
    "using Random, Distributions, Statistics\n",
    "using ArgParse, ProgressMeter\n",
    "using Tables, CSV, DataFrames"
   ]
  },
  {
   "cell_type": "code",
   "execution_count": 15,
   "metadata": {},
   "outputs": [
    {
     "data": {
      "text/plain": [
       "1.0e-7"
      ]
     },
     "metadata": {},
     "output_type": "display_data"
    }
   ],
   "source": [
    "num_sim    = 10\n",
    "domain_len = 20.0\n",
    "time_step  = 1.0e-7"
   ]
  },
  {
   "cell_type": "code",
   "execution_count": 16,
   "metadata": {},
   "outputs": [
    {
     "data": {
      "text/plain": [
       "(Ω_inf = 0.0, Ω_sup = 20.0, T = 0.25, Δt = 1.0e-7, C₀ = 0.000125, λ₁ = 40.5745, λ₀ = 17.3, ε = 10.0, γ = 0.5, D = 1.0e6, δ = 0.4472135954999579, λ₁Δt = 4.05745e-6, λ₀Δt = 1.73e-6)"
      ]
     },
     "metadata": {},
     "output_type": "display_data"
    }
   ],
   "source": [
    "# Parameters\n",
    "p = (;\n",
    "    Ω_inf=0.0,         # nm\n",
    "    Ω_sup=domain_len,  # nm\n",
    "    T=0.25,        # s\n",
    "    Δt=time_step,   # s\n",
    "    C₀=1.25e-4,     # nm^{-3}\n",
    "    λ₁=40.5745,        # 1/s, varies based on Ω\n",
    "    λ₀=17.3,           # 1/s\n",
    "    ε=10.0,           # nm\n",
    "    γ=0.5,            # ratio\n",
    "    D=1.0e6           # nm\n",
    ")\n",
    "p = (; p...,\n",
    "    δ=sqrt(2 * p.D * p.Δt),\n",
    "\n",
    "    # update states \n",
    "    λ₁Δt=p.λ₁ * p.Δt,\n",
    "    λ₀Δt=p.λ₀ * p.Δt\n",
    ")"
   ]
  },
  {
   "cell_type": "code",
   "execution_count": 17,
   "metadata": {},
   "outputs": [],
   "source": [
    "const DIM = 3  # dim of the domain\n",
    "\n",
    "mutable struct Particle\n",
    "    X::SVector{DIM,Float64}\n",
    "end\n",
    "\n",
    "mutable struct ReactState\n",
    "    dir::Float64\n",
    "    A::Particle\n",
    "    B::Particle\n",
    "    C::Particle\n",
    "end"
   ]
  },
  {
   "cell_type": "code",
   "execution_count": 18,
   "metadata": {},
   "outputs": [
    {
     "data": {
      "text/plain": [
       "period_dist (generic function with 1 method)"
      ]
     },
     "metadata": {},
     "output_type": "display_data"
    }
   ],
   "source": [
    "function period_dist(X1, X2, p)\n",
    "    (; Ω_sup) = p\n",
    "    diff1 = abs.(X1 - X2)\n",
    "    diff2 = Ω_sup .- diff1\n",
    "    return norm(min.(diff1, diff2))\n",
    "end"
   ]
  },
  {
   "cell_type": "code",
   "execution_count": 19,
   "metadata": {},
   "outputs": [
    {
     "data": {
      "text/plain": [
       "init_states (generic function with 1 method)"
      ]
     },
     "metadata": {},
     "output_type": "display_data"
    }
   ],
   "source": [
    "function init_states(num_states, p)\n",
    "    (; Ω_sup) = p\n",
    "\n",
    "    react_states = Vector{ReactState}(undef, num_states)\n",
    "    for i in 1:num_states\n",
    "        init_dir = 0.0\n",
    "\n",
    "        init_X1 = Ω_sup * (@SVector rand(3))\n",
    "        init_A = Particle(init_X1)\n",
    "\n",
    "        init_X2 = Ω_sup * (@SVector rand(3))\n",
    "        init_B = Particle(init_X2)\n",
    "\n",
    "        init_X3 = Ω_sup * (@SVector rand(3))\n",
    "        init_C = Particle(init_X3)\n",
    "\n",
    "        init_state = ReactState(init_dir, init_A, init_B, init_C)\n",
    "        react_states[i] = init_state\n",
    "    end\n",
    "    return react_states\n",
    "end"
   ]
  },
  {
   "cell_type": "code",
   "execution_count": 20,
   "metadata": {},
   "outputs": [
    {
     "data": {
      "text/plain": [
       "update_state (generic function with 1 method)"
      ]
     },
     "metadata": {},
     "output_type": "display_data"
    }
   ],
   "source": [
    "function update_state(state, p)\n",
    "    (; λ₁Δt, λ₀Δt, ε, Ω_sup) = p\n",
    "\n",
    "    # Forward reaction-diffusion \n",
    "    if state.dir == 1.0\n",
    "        # forward diffusion\n",
    "        X1, X2 = forward_diff(state.A.X, state.B.X, p)\n",
    "\n",
    "        if (rand() <= λ₁Δt) && (period_dist(X1, X2, p) <= ε)\n",
    "            # forward reaction\n",
    "            X3 = 0.5 * (X1 + X2)\n",
    "            state.C.X = mod.(X3, Ω_sup)\n",
    "            state.dir = 0.0\n",
    "        else\n",
    "            state.A.X = X1\n",
    "            state.B.X = X2\n",
    "        end\n",
    "\n",
    "        # Backward reaction-diffusion\n",
    "    else\n",
    "        # backward diffusion\n",
    "        X3 = backward_diff(state.C.X, p)\n",
    "\n",
    "        if (rand() <= λ₀Δt)\n",
    "            # backward reaction\n",
    "            X1, X2 = backward_react(X3, p)\n",
    "            state.A.X = X1\n",
    "            state.B.X = X2\n",
    "            state.dir = 1.0\n",
    "        else\n",
    "            state.C.X = X3\n",
    "        end\n",
    "    end\n",
    "end"
   ]
  },
  {
   "cell_type": "code",
   "execution_count": 21,
   "metadata": {},
   "outputs": [
    {
     "data": {
      "text/plain": [
       "count_C (generic function with 1 method)"
      ]
     },
     "metadata": {},
     "output_type": "display_data"
    }
   ],
   "source": [
    "function count_C(react_states, num_states)\n",
    "    num_AB = 0.0\n",
    "    for i in 1:num_states\n",
    "        num_AB += react_states[i].dir\n",
    "    end\n",
    "    return (num_states - num_AB)\n",
    "end"
   ]
  },
  {
   "cell_type": "code",
   "execution_count": 22,
   "metadata": {},
   "outputs": [
    {
     "data": {
      "text/plain": [
       "save_result (generic function with 1 method)"
      ]
     },
     "metadata": {},
     "output_type": "display_data"
    }
   ],
   "source": [
    "function save_result(means, num_sim, p)\n",
    "    (; Ω_sup, Δt, T) = p\n",
    "    # Store\n",
    "    df = DataFrame(mean=means)\n",
    "    file_path = \"results/ABCX_per_sim$num_sim\" * \"_Ω$Ω_sup\" * \"_Δt$Δt\" * \"_T$T.csv\"\n",
    "    CSV.write(file_path, df)\n",
    "end"
   ]
  },
  {
   "cell_type": "code",
   "execution_count": 23,
   "metadata": {},
   "outputs": [
    {
     "data": {
      "text/plain": [
       "backward_diff (generic function with 1 method)"
      ]
     },
     "metadata": {},
     "output_type": "display_data"
    }
   ],
   "source": [
    "function forward_diff(X1, X2, p)\n",
    "    # unpack variables from p \n",
    "    (; δ, Ω_sup) = p\n",
    "\n",
    "    # generate standard normal random vector\n",
    "    # store as static arrays\n",
    "    Z₁ = @SVector randn(3)\n",
    "    X1_next = X1 + δ * Z₁\n",
    "    X1_next = mod.(X1_next, Ω_sup)\n",
    "\n",
    "    Z₂ = @SVector randn(3)\n",
    "    X2_next = X2 + δ * Z₂\n",
    "    X2_next = mod.(X2_next, Ω_sup)\n",
    "\n",
    "    return (X1_next, X2_next)\n",
    "end\n",
    "\n",
    "function backward_diff(X3, p)\n",
    "    (; δ, Ω_sup) = p\n",
    "    Z = @SVector randn(3)\n",
    "    X3_next = X3 + δ * Z\n",
    "    return mod.(X3_next, Ω_sup)\n",
    "end"
   ]
  },
  {
   "cell_type": "code",
   "execution_count": 24,
   "metadata": {},
   "outputs": [
    {
     "data": {
      "text/plain": [
       "backward_react (generic function with 1 method)"
      ]
     },
     "metadata": {},
     "output_type": "display_data"
    }
   ],
   "source": [
    "function backward_react(X3, p)\n",
    "    (; ε, γ, Ω_sup) = p\n",
    "\n",
    "    # displacement of positions\n",
    "    # sample uniform rv in B(0,ε)\n",
    "    Z = @SVector randn(3)\n",
    "    U = rand()\n",
    "    η = ε * cbrt(U) * (Z / norm(Z))\n",
    "\n",
    "    # original equation\n",
    "    # γ * X1 + (1-γ) * X2 = X3\n",
    "    # X1 - X2 = η\n",
    "    X1 = X3 + (1 - γ) * η\n",
    "    X1 = mod.(X1, Ω_sup)\n",
    "\n",
    "    X2 = X3 - γ * η\n",
    "    X2 = mod.(X2, Ω_sup)\n",
    "\n",
    "    return (X1, X2)\n",
    "end"
   ]
  },
  {
   "cell_type": "code",
   "execution_count": 25,
   "metadata": {},
   "outputs": [
    {
     "name": "stderr",
     "output_type": "stream",
     "text": [
      "\u001b[32mProgress: 100%|█████████████████████████████████████████| Time: 0:00:03\u001b[39m\u001b[K\n"
     ]
    },
    {
     "data": {
      "text/plain": [
       "\"results/ABCX_per_sim10_Ω20.0_Δt1.0e-7_T0.25.csv\""
      ]
     },
     "metadata": {},
     "output_type": "display_data"
    }
   ],
   "source": [
    "(; T, Δt, C₀, Ω_sup) = p\n",
    "\n",
    "num_Δt = Int(floor(T / Δt))\n",
    "num_states = Int(C₀ * (Ω_sup)^3)\n",
    "\n",
    "save_time_step = T / 5000\n",
    "step_ratio = Int(floor(save_time_step / Δt))\n",
    "num_save_steps = Int(floor(T / save_time_step)) + 1\n",
    "num_C_sim_path = zeros(num_save_steps)\n",
    "num_C_total = zeros(num_save_steps)\n",
    "\n",
    "num_C_sim_path[1] = Float64(num_states)\n",
    "\n",
    "# Main loop\n",
    "@showprogress for n in 1:num_sim\n",
    "    react_states = init_states(num_states, p)\n",
    "    for i in 1:num_Δt\n",
    "        for j in 1:num_states\n",
    "            update_state(react_states[j], p)\n",
    "        end\n",
    "        if mod(i, step_ratio) == 0\n",
    "            num_C_sim_path[div(i, step_ratio)+1] = count_C(react_states, num_states)\n",
    "        end\n",
    "    end\n",
    "    @. num_C_total += num_C_sim_path\n",
    "end\n",
    "C_means = num_C_total / num_sim\n",
    "save_result(C_means, num_sim, p)"
   ]
  },
  {
   "cell_type": "code",
   "execution_count": null,
   "metadata": {},
   "outputs": [],
   "source": []
  }
 ],
 "metadata": {
  "kernelspec": {
   "display_name": "Julia 1.10.3",
   "language": "julia",
   "name": "julia-1.10"
  },
  "language_info": {
   "file_extension": ".jl",
   "mimetype": "application/julia",
   "name": "julia",
   "version": "1.10.3"
  }
 },
 "nbformat": 4,
 "nbformat_minor": 2
}
